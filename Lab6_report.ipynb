{
 "cells": [
  {
   "cell_type": "markdown",
   "metadata": {},
   "source": [
    "# Отчёт по лабораторной работе \"Задача Коши\"\n",
    "\n",
    "### Выполнил: Безруков Андрей\n",
    "### Группа: 427\n",
    "\n",
    "### Цель: Найти решение задачи Коши с помощью неявной схемы Роте."
   ]
  },
  {
   "cell_type": "markdown",
   "metadata": {},
   "source": [
    "Неявная схема Роте: $$ \n",
    "\\begin{cases}\n",
    "   y_{n+1}=y_n+h(\\alpha f(x_n,y_n)+\\beta f(x_{n+1},y_{n+1}))\\\\\n",
    "   y_0=y^0 & n=0,...,N-1 & \\alpha \\in (0,1) & \\beta=1-\\alpha\n",
    "\\end{cases} $$"
   ]
  },
  {
   "cell_type": "markdown",
   "metadata": {},
   "source": [
    "Значения $y_{n+1}$ будем искать сначала явным методом Эйлера:  \n",
    "$y_i = y_{i-1} + h f(x_{i-1}, y_{i-1})$, где h-шаг сетки    \n",
    "и корректировать схемой Роте"
   ]
  },
  {
   "cell_type": "markdown",
   "metadata": {},
   "source": [
    "Дано: $y''+9y'-9y=cos(3x)*exp(-x)$, $y(0)=1$, $y'(0)=0$, $x\\in[0,2]$    \n",
    "$\\alpha=1/3$ $\\beta=2/3$ $\\varepsilon=0.01$"
   ]
  },
  {
   "cell_type": "markdown",
   "metadata": {},
   "source": [
    "#### Неявная схема Роте."
   ]
  },
  {
   "cell_type": "code",
   "execution_count": 12,
   "metadata": {},
   "outputs": [
    {
     "name": "stdout",
     "output_type": "stream",
     "text": [
      "32\n"
     ]
    },
    {
     "data": {
      "text/plain": [
       "20-element Array{Any,1}:\n",
       " 1.03844\n",
       " 1.12155\n",
       " 1.2267 \n",
       " 1.34576\n",
       " 1.4762 \n",
       " 1.61777\n",
       " 1.77126\n",
       " 1.93796\n",
       " 2.11951\n",
       " 2.31774\n",
       " 2.53465\n",
       " 2.77238\n",
       " 3.03319\n",
       " 3.31949\n",
       " 3.63378\n",
       " 3.97874\n",
       " 4.35724\n",
       " 4.77236\n",
       " 5.22744\n",
       " 5.72613"
      ]
     },
     "execution_count": 12,
     "metadata": {},
     "output_type": "execute_result"
    }
   ],
   "source": [
    "E=0.01\n",
    "bb=2\n",
    "#начальные условия\n",
    "x00=0\n",
    "y00=1\n",
    "z00=0\n",
    "#шаг\n",
    "N=20\n",
    "hh=(bb-x00)/N\n",
    "#система\n",
    "ff(x,y,z)=z\n",
    "gg(x,y,z)=cos(3x)*exp(-x)-9z+9y\n",
    "#схема Роте\n",
    "function Rote(f,g,x0,y0,z0,h,b)\n",
    "alp=1/3\n",
    "bet=2/3\n",
    "k=0\n",
    "x1=x0+h\n",
    "y1=[]\n",
    "z1=[]\n",
    "y11=[]\n",
    "z11=[]  \n",
    "while(x0<=b)\n",
    "    k+=1\n",
    "    push!(y1,y0+h*f(x0,y0,z0))\n",
    "    push!(z1,z0+h*g(x0,y0,z0))\n",
    "    push!(y11,y0+h*(alp*f(x0,y0,z0)+bet*f(x1,y1[k],z1[k])))\n",
    "    push!(z11,z0+h*(alp*g(x0,y0,z0)+bet*g(x1,y1[k],z1[k])))\n",
    "    y0=y11[k]\n",
    "    z0=z11[k]\n",
    "    x0+=h\n",
    "    x1+=h\n",
    "end\n",
    "    return y11,z11\n",
    "end\n",
    "\n",
    "#выбор шага\n",
    "ty=zeros(N)\n",
    "tz=zeros(N)\n",
    "resy=[]\n",
    "resz=[]\n",
    "j=1\n",
    "while(true)   \n",
    "    resy1=[]\n",
    "    resz1=[]\n",
    "    resy,resz=Rote(ff,gg,x00,y00,z00,hh,bb)\n",
    "    i=1\n",
    "    while(i<=N)\n",
    "        push!(resy1,resy[i*j])\n",
    "        push!(resz1,resz[i*j])\n",
    "        i+=1\n",
    "    end\n",
    "    if(norm(resy1-ty)<E && norm(resz1-tz)<E)\n",
    "        break\n",
    "    end\n",
    "    ty=resy1\n",
    "    tz=resz1\n",
    "    j*=2\n",
    "    hh/=2\n",
    "end\n",
    "println(j)\n",
    "ty"
   ]
  },
  {
   "cell_type": "markdown",
   "metadata": {},
   "source": [
    "#### Метод Рунге-Кутты 4 порядка: \n",
    "Приближенное значение в последующих точках вычисляется по итерационной формуле:\n",
    "$ y_{n+1} = y_n + {h \\over 6}(k_1 + 2k_2 + 2k_3 + k_4) $  \n",
    "Вычисление нового значения проходит в четыре стадии:  \n",
    "$ k_{1}=f\\left(x_{n},y_{n}\\right), $  \n",
    "$ k_{2}=f\\left(x_{n}+{h \\over 2},y_{n}+{h \\over 2}k_{1}\\right), $  \n",
    "$ k_{3}=f\\left(x_{n}+{h \\over 2},y_{n}+{h \\over 2}k_{2}\\right), $  \n",
    "$ k_{4}=f\\left(x_{n}+h,y_{n}+h\\ k_{3}\\right). $"
   ]
  },
  {
   "cell_type": "code",
   "execution_count": 13,
   "metadata": {},
   "outputs": [
    {
     "data": {
      "text/plain": [
       "20-element Array{Any,1}:\n",
       " 1.0386 \n",
       " 1.12155\n",
       " 1.22653\n",
       " 1.34542\n",
       " 1.47568\n",
       " 1.61707\n",
       " 1.77034\n",
       " 1.9368 \n",
       " 2.11807\n",
       " 2.31596\n",
       " 2.53249\n",
       " 2.76977\n",
       " 3.03008\n",
       " 3.31579\n",
       " 3.62941\n",
       " 3.97362\n",
       " 4.35126\n",
       " 4.7654 \n",
       " 5.21937\n",
       " 5.7168 "
      ]
     },
     "execution_count": 13,
     "metadata": {},
     "output_type": "execute_result"
    }
   ],
   "source": [
    "#начальные условия\n",
    "Xo=0\n",
    "Yo=1\n",
    "Zo=0\n",
    "#шаг\n",
    "h=0.1\n",
    "#система\n",
    "g(x,y,z)=z\n",
    "f(x,y,z)=cos(3x)*exp(-x)-9z+9y\n",
    "rky=[]\n",
    "while(Xo<=2)\n",
    "    k1 = h * f(Xo, Yo, Zo);\n",
    "    q1 = h * g(Xo, Yo, Zo);\n",
    "    k2 = h * f(Xo + h/2.0, Yo + q1/2.0, Zo + k1/2.0)\n",
    "    q2 = h * g(Xo + h/2.0, Yo + q1/2.0, Zo + k1/2.0)\n",
    "    k3 = h * f(Xo + h/2.0, Yo + q2/2.0, Zo + k2/2.0)\n",
    "    q3 = h * g(Xo + h/2.0, Yo + q2/2.0, Zo + k2/2.0)\n",
    "    k4 = h * f(Xo + h, Yo + q3, Zo + k3)\n",
    "    q4 = h * g(Xo + h, Yo + q3, Zo + k3)\n",
    "    Z1 = Zo + (k1 + 2.0*k2 + 2.0*k3 + k4)/6.0\n",
    "    Y1 = Yo + (q1 + 2.0*q2 + 2.0*q3 + q4)/6.0\n",
    "    Yo = Y1\n",
    "    Zo = Z1\n",
    "    Xo += h\n",
    "    push!(rky,Y1)\n",
    "end\n",
    "rky"
   ]
  },
  {
   "cell_type": "markdown",
   "metadata": {},
   "source": [
    "#### Точное решение."
   ]
  },
  {
   "cell_type": "code",
   "execution_count": 14,
   "metadata": {},
   "outputs": [
    {
     "data": {
      "text/plain": [
       "20-element Array{Any,1}:\n",
       " 1.03795\n",
       " 1.12107\n",
       " 1.22625\n",
       " 1.34528\n",
       " 1.47562\n",
       " 1.61704\n",
       " 1.77033\n",
       " 1.93681\n",
       " 2.11807\n",
       " 2.31597\n",
       " 2.53249\n",
       " 2.76978\n",
       " 3.03009\n",
       " 3.31579\n",
       " 3.62941\n",
       " 3.97362\n",
       " 4.35126\n",
       " 4.7654 \n",
       " 5.21937\n",
       " 5.7168 "
      ]
     },
     "execution_count": 14,
     "metadata": {},
     "output_type": "execute_result"
    }
   ],
   "source": [
    "C1=((10109*sqrt(13))/87126)+(1143/2234)\n",
    "C2=-((10109*sqrt(13))/87126)+(1143/2234)\n",
    "ay(u)=C1*exp(3u*(-3+sqrt(13))/2)+C2*exp(3u*(-3-sqrt(13))/2)+(21/1117)exp(-u)sin(3u)-(26/1117)exp(-u)cos(3u)\n",
    "u0=0\n",
    "h=0.1\n",
    "tu=[]\n",
    "while(u0<=2)\n",
    "    u0+=h\n",
    "    push!(tu,ay(u0))\n",
    "end\n",
    "tu"
   ]
  },
  {
   "cell_type": "markdown",
   "metadata": {},
   "source": [
    "#### Нормы разности решений"
   ]
  },
  {
   "cell_type": "code",
   "execution_count": 15,
   "metadata": {},
   "outputs": [
    {
     "name": "stdout",
     "output_type": "stream",
     "text": [
      "Рунге-Кутта: 0.01803567036355192 Точное решение: 0.018046703252990428\n"
     ]
    }
   ],
   "source": [
    "println(\"Рунге-Кутта: \",norm(ty-rky),\" Точное решение: \",norm(ty-tu))"
   ]
  },
  {
   "cell_type": "markdown",
   "metadata": {},
   "source": [
    "#### График модуля разности полученного численно решения и точного."
   ]
  },
  {
   "cell_type": "code",
   "execution_count": 18,
   "metadata": {},
   "outputs": [
    {
     "data": {
      "image/png": "[encoded data removed]",
      "text/plain": [
       "PyPlot.Figure(PyObject <Figure size 640x480 with 1 Axes>)"
      ]
     },
     "metadata": {},
     "output_type": "display_data"
    },
    {
     "data": {
      "text/plain": [
       "PyObject Text(24.5,0.5,'|ty-tu|')"
      ]
     },
     "execution_count": 18,
     "metadata": {},
     "output_type": "execute_result"
    }
   ],
   "source": [
    "using PyPlot\n",
    "A=abs.(ty-tu)\n",
    "xx=0; x=zeros(20); h=0.1\n",
    "for i=1:20\n",
    "    x[i]=xx+h; xx+=h\n",
    "end\n",
    "plot(x,A)\n",
    "grid(\"on\")\n",
    "xlabel(\"x\")\n",
    "ylabel(\"|ty-tu|\")"
   ]
  },
  {
   "cell_type": "markdown",
   "metadata": {},
   "source": [
    "### Вывод: Было найдено решение задачи Коши с помощью неявной схемы Роте."
   ]
  },
  {
   "cell_type": "code",
   "execution_count": null,
   "metadata": {},
   "outputs": [],
   "source": []
  }
 ],
 "metadata": {
  "kernelspec": {
   "display_name": "Julia 0.6.2",
   "language": "julia",
   "name": "julia-0.6"
  },
  "language_info": {
   "file_extension": ".jl",
   "mimetype": "application/julia",
   "name": "julia",
   "version": "0.6.2"
  }
 },
 "nbformat": 4,
 "nbformat_minor": 2
}
