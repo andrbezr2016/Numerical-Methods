{
 "cells": [
  {
   "cell_type": "code",
   "execution_count": 1,
   "metadata": {},
   "outputs": [
    {
     "data": {
      "text/plain": [
       "0.001"
      ]
     },
     "execution_count": 1,
     "metadata": {},
     "output_type": "execute_result"
    }
   ],
   "source": [
    "#1 номер\n",
    "f(x)=x^4-x^3-2*x^2+3*x-3\n",
    "E=0.001"
   ]
  },
  {
   "cell_type": "code",
   "execution_count": 2,
   "metadata": {},
   "outputs": [
    {
     "name": "stdout",
     "output_type": "stream",
     "text": [
      "a=1\n",
      "b=2\n",
      "X=1.7320508075688772\n",
      "шаг=51\n"
     ]
    }
   ],
   "source": [
    "a=9 #Определение корней\n",
    "b=10\n",
    "while(f(a)*f(b)>0)\n",
    "    a-=1\n",
    "    b-=1\n",
    "end\n",
    "println(\"a=$a\")\n",
    "println(\"b=$b\")\n",
    "\n",
    "k=0 #Метод дихотомии\n",
    "a1=a\n",
    "b1=b\n",
    "while((abs((f(a1)-f(b1))/f(a1))>E)&(k<100)) \n",
    "    c=(b+a)/2\n",
    "    k+=1\n",
    "    \n",
    "    if(f(c)==0)\n",
    "        a1=c\n",
    "        b=a1\n",
    "        b1=a1\n",
    "        a=b\n",
    "    end\n",
    "    \n",
    "    if(f(b)f(c)<0)\n",
    "        a=c\n",
    "        b1=a1\n",
    "        a1=c\n",
    "    end\n",
    "    \n",
    "    if(f(a)f(c)<0)\n",
    "        b=c\n",
    "        b1=a1\n",
    "        a1=c\n",
    "    end\n",
    "    \n",
    " end\n",
    "\n",
    "x1=(b+a)/2\n",
    "println(\"X=$x1\")\n",
    "println(\"шаг=$k\")"
   ]
  },
  {
   "cell_type": "code",
   "execution_count": 3,
   "metadata": {},
   "outputs": [
    {
     "name": "stdout",
     "output_type": "stream",
     "text": [
      "a=1\n",
      "b=2\n",
      "X=1.7320508075688772\n",
      "шаг=30\n"
     ]
    }
   ],
   "source": [
    "a=9 #Определение корней\n",
    "b=10\n",
    "while(f(a)*f(b)>0)\n",
    "    a-=1\n",
    "    b-=1\n",
    "end\n",
    "println(\"a=$a\")\n",
    "println(\"b=$b\")\n",
    "\n",
    "k=0 #Метод хорд\n",
    "a2=a\n",
    "b2=b\n",
    "while((abs((f(a2)-f(b2))/f(a2))>E)&(k<100)) \n",
    "    xk=a-(f(a)*(b-a))/(f(b)-f(a))\n",
    "    k+=1\n",
    "    \n",
    "    if(f(xk)==0)\n",
    "        a2=xk\n",
    "        b=a2\n",
    "        b2=a2\n",
    "        a=b\n",
    "    end\n",
    "    \n",
    "    if(f(b)f(xk)<0)\n",
    "        a=xk\n",
    "        b2=a2\n",
    "        a2=xk\n",
    "    end\n",
    "    \n",
    "    if(f(a)f(xk)<0)\n",
    "        b=xk\n",
    "        b2=a2\n",
    "        a2=xk\n",
    "    end\n",
    "    \n",
    " end\n",
    "\n",
    "x2=(b+a)/2\n",
    "println(\"X=$x2\")\n",
    "println(\"шаг=$k\")"
   ]
  },
  {
   "cell_type": "code",
   "execution_count": 1,
   "metadata": {},
   "outputs": [],
   "source": [
    "using PyPlot"
   ]
  },
  {
   "cell_type": "code",
   "execution_count": 3,
   "metadata": {},
   "outputs": [
    {
     "data": {
      "text/plain": [
       "pg (generic function with 1 method)"
      ]
     },
     "execution_count": 3,
     "metadata": {},
     "output_type": "execute_result"
    }
   ],
   "source": [
    "#2 номер\n",
    "dx=0.1\n",
    "g(x)=3*exp(x)-5*x-4\n",
    "pg(x)=((g(x+dx)-g(x))/dx)"
   ]
  },
  {
   "cell_type": "code",
   "execution_count": 5,
   "metadata": {},
   "outputs": [
    {
     "data": {
      "image/png": "[encoded data removed]",
      "text/plain": [
       "PyPlot.Figure(PyObject <matplotlib.figure.Figure object at 0x0000000025024240>)"
      ]
     },
     "metadata": {},
     "output_type": "display_data"
    }
   ],
   "source": [
    "massiv=[]\n",
    "i=-5\n",
    "l=0\n",
    "while(i<5.0)\n",
    "    push!(massiv,g(i))\n",
    "    l+=1\n",
    "    i+=0.01\n",
    "end\n",
    "k=linspace(-5,5,l)\n",
    "plot(k,massiv)\n",
    "grid(\"on\")"
   ]
  },
  {
   "cell_type": "code",
   "execution_count": 29,
   "metadata": {},
   "outputs": [
    {
     "name": "stdout",
     "output_type": "stream",
     "text": [
      "X=1.2079299291399717\n",
      "шаг=108\n"
     ]
    }
   ],
   "source": [
    "#Метод простой итерации\n",
    "a0=0\n",
    "b0=2.0\n",
    "lam=1/pg(b0)\n",
    "n=0\n",
    "Ea=0.001\n",
    "while(((abs(g(b0)-g(a0))/abs(g(a0)))>Ea)&(n<1000)) \n",
    "    a0=b0\n",
    "    if ((pg(a0)*lam)<0) #совпадает со знаком производной\n",
    "        lam=-lam\n",
    "    end\n",
    "    b0=a0-(lam*g(a0))\n",
    "    n+=1\n",
    "end\n",
    "println(\"X=$b0\")\n",
    "println(\"шаг=$n\")"
   ]
  },
  {
   "cell_type": "code",
   "execution_count": 8,
   "metadata": {},
   "outputs": [
    {
     "name": "stdout",
     "output_type": "stream",
     "text": [
      "X=1.2079299291399714\n",
      "шаг=18\n"
     ]
    }
   ],
   "source": [
    "#Метод Ньютона\n",
    "a0=0\n",
    "b0=2.0\n",
    "n=0\n",
    "while(((abs(g(b0)-g(a0))/abs(g(a0)))>Ea)&(n<100))\n",
    "    a0=b0\n",
    "    b0=a0-(g(a0)/pg(a0))\n",
    "    n+=1\n",
    "end\n",
    "println(\"X=$b0\")\n",
    "println(\"шаг=$n\")"
   ]
  },
  {
   "cell_type": "code",
   "execution_count": 9,
   "metadata": {},
   "outputs": [
    {
     "data": {
      "text/plain": [
       "prz1 (generic function with 1 method)"
      ]
     },
     "execution_count": 9,
     "metadata": {},
     "output_type": "execute_result"
    }
   ],
   "source": [
    "#3 номер\n",
    "z1(x,y)=[[sin(x+y)-1.5*x*y];[x^2-y^2-0.75]]\n",
    "prz1(x,y)=[[cos(x+y)-1.5*y cos(x+y)-1.5*x];[2*x -2*y]]"
   ]
  },
  {
   "cell_type": "code",
   "execution_count": 24,
   "metadata": {},
   "outputs": [
    {
     "name": "stdout",
     "output_type": "stream",
     "text": [
      "X,Y=[1.06582; 0.621271]\n",
      "шаг=3\n"
     ]
    }
   ],
   "source": [
    "#метод ньютона для системы\n",
    "n=0\n",
    "xi=fill(1.0, (2,1))\n",
    "E1=0.0001\n",
    "while((abs(z1(xi[1],xi[2])[1]-z1(xi[1],xi[2])[2])>E1)&(i<100))\n",
    "    xi=xi-prz1(xi[1],xi[2])^(-1)*z1(xi[1],xi[2])\n",
    "    n+=1\n",
    "end\n",
    "println(\"X,Y=$xi\")\n",
    "println(\"шаг=$n\")"
   ]
  },
  {
   "cell_type": "code",
   "execution_count": null,
   "metadata": {},
   "outputs": [],
   "source": []
  }
 ],
 "metadata": {
  "kernelspec": {
   "display_name": "Julia 0.6.2",
   "language": "julia",
   "name": "julia-0.6"
  },
  "language_info": {
   "file_extension": ".jl",
   "mimetype": "application/julia",
   "name": "julia",
   "version": "0.6.2"
  }
 },
 "nbformat": 4,
 "nbformat_minor": 2
}
